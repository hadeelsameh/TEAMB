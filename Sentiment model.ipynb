{
 "cells": [
  {
   "cell_type": "code",
   "execution_count": 1,
   "metadata": {},
   "outputs": [],
   "source": [
    "import pandas as pd\n",
    "from sklearn.model_selection import train_test_split\n",
    "from sklearn.naive_bayes import GaussianNB\n",
    "from sklearn.metrics import confusion_matrix\n",
    "from sklearn.metrics import classification_report"
   ]
  },
  {
   "cell_type": "code",
   "execution_count": 2,
   "metadata": {},
   "outputs": [],
   "source": [
    "APPL_df=pd.read_csv('APPL-dataset.csv')"
   ]
  },
  {
   "cell_type": "code",
   "execution_count": 3,
   "metadata": {
    "scrolled": true
   },
   "outputs": [
    {
     "name": "stdout",
     "output_type": "stream",
     "text": [
      "does column Date has null values? False\n",
      "does column Text has null values? True\n",
      "does column sentiment has null values? False\n",
      "does column result has null values? False\n"
     ]
    }
   ],
   "source": [
    "a=[]\n",
    "a=APPL_df.columns\n",
    "for i in a:\n",
    "    print(f'does column {i} has null values? {APPL_df[i].isnull().any()}')\n"
   ]
  },
  {
   "cell_type": "code",
   "execution_count": 4,
   "metadata": {},
   "outputs": [],
   "source": [
    "import numpy as np\n",
    "null_col=['Text']\n",
    "for i in null_col:\n",
    "        APPL_df[i] = APPL_df[i].fillna(0)\n",
    "        "
   ]
  },
  {
   "cell_type": "code",
   "execution_count": 5,
   "metadata": {
    "scrolled": true
   },
   "outputs": [
    {
     "data": {
      "text/html": [
       "<div>\n",
       "<style scoped>\n",
       "    .dataframe tbody tr th:only-of-type {\n",
       "        vertical-align: middle;\n",
       "    }\n",
       "\n",
       "    .dataframe tbody tr th {\n",
       "        vertical-align: top;\n",
       "    }\n",
       "\n",
       "    .dataframe thead th {\n",
       "        text-align: right;\n",
       "    }\n",
       "</style>\n",
       "<table border=\"1\" class=\"dataframe\">\n",
       "  <thead>\n",
       "    <tr style=\"text-align: right;\">\n",
       "      <th></th>\n",
       "      <th>Date</th>\n",
       "      <th>Text</th>\n",
       "      <th>sentiment</th>\n",
       "      <th>result</th>\n",
       "    </tr>\n",
       "  </thead>\n",
       "  <tbody>\n",
       "    <tr>\n",
       "      <td>7120</td>\n",
       "      <td>2021-03-26 16:12:21+00:00</td>\n",
       "      <td>cashapp itsnotgio aapl</td>\n",
       "      <td>{'neg': 0.0, 'neu': 1.0, 'pos': 0.0, 'compound...</td>\n",
       "      <td>neutral</td>\n",
       "    </tr>\n",
       "    <tr>\n",
       "      <td>7121</td>\n",
       "      <td>2021-03-26 16:09:17+00:00</td>\n",
       "      <td>zacharydorris aapl httpstcoluxybhfiox</td>\n",
       "      <td>{'neg': 0.0, 'neu': 1.0, 'pos': 0.0, 'compound...</td>\n",
       "      <td>neutral</td>\n",
       "    </tr>\n",
       "    <tr>\n",
       "      <td>7122</td>\n",
       "      <td>2021-03-26 16:08:00+00:00</td>\n",
       "      <td>cashapp cashappfriday \\nmoogle aapl</td>\n",
       "      <td>{'neg': 0.0, 'neu': 1.0, 'pos': 0.0, 'compound...</td>\n",
       "      <td>neutral</td>\n",
       "    </tr>\n",
       "    <tr>\n",
       "      <td>7123</td>\n",
       "      <td>2021-03-26 15:23:30+00:00</td>\n",
       "      <td>start your investment journey with  free stock...</td>\n",
       "      <td>{'neg': 0.0, 'neu': 0.752, 'pos': 0.248, 'comp...</td>\n",
       "      <td>positive</td>\n",
       "    </tr>\n",
       "    <tr>\n",
       "      <td>7124</td>\n",
       "      <td>2021-03-26 13:07:26+00:00</td>\n",
       "      <td>aapl over the  fibo  aapl chart httpstcohyfbufabe</td>\n",
       "      <td>{'neg': 0.0, 'neu': 1.0, 'pos': 0.0, 'compound...</td>\n",
       "      <td>neutral</td>\n",
       "    </tr>\n",
       "    <tr>\n",
       "      <td>7125</td>\n",
       "      <td>2021-03-26 13:01:22+00:00</td>\n",
       "      <td>aapl one of the most mentioned on rwallstreetb...</td>\n",
       "      <td>{'neg': 0.0, 'neu': 1.0, 'pos': 0.0, 'compound...</td>\n",
       "      <td>neutral</td>\n",
       "    </tr>\n",
       "    <tr>\n",
       "      <td>7126</td>\n",
       "      <td>2021-03-26 09:26:57+00:00</td>\n",
       "      <td>pf  cash\\nbonds amp treasury vuty \\n\\ndow  aap...</td>\n",
       "      <td>{'neg': 0.14, 'neu': 0.81, 'pos': 0.05, 'compo...</td>\n",
       "      <td>neutral</td>\n",
       "    </tr>\n",
       "    <tr>\n",
       "      <td>7127</td>\n",
       "      <td>2021-03-26 08:08:04+00:00</td>\n",
       "      <td>last day of the week selling pressure is still...</td>\n",
       "      <td>{'neg': 0.146, 'neu': 0.854, 'pos': 0.0, 'comp...</td>\n",
       "      <td>negative</td>\n",
       "    </tr>\n",
       "    <tr>\n",
       "      <td>7128</td>\n",
       "      <td>2021-03-26 02:29:30+00:00</td>\n",
       "      <td>aroraitesh michaelbatnick yep aapl tsla mfst a...</td>\n",
       "      <td>{'neg': 0.0, 'neu': 0.879, 'pos': 0.121, 'comp...</td>\n",
       "      <td>neutral</td>\n",
       "    </tr>\n",
       "    <tr>\n",
       "      <td>7129</td>\n",
       "      <td>2021-03-26 00:57:52+00:00</td>\n",
       "      <td>wow a white lady spat at me when she walked by...</td>\n",
       "      <td>{'neg': 0.089, 'neu': 0.586, 'pos': 0.325, 'co...</td>\n",
       "      <td>positive</td>\n",
       "    </tr>\n",
       "  </tbody>\n",
       "</table>\n",
       "</div>"
      ],
      "text/plain": [
       "                           Date  \\\n",
       "7120  2021-03-26 16:12:21+00:00   \n",
       "7121  2021-03-26 16:09:17+00:00   \n",
       "7122  2021-03-26 16:08:00+00:00   \n",
       "7123  2021-03-26 15:23:30+00:00   \n",
       "7124  2021-03-26 13:07:26+00:00   \n",
       "7125  2021-03-26 13:01:22+00:00   \n",
       "7126  2021-03-26 09:26:57+00:00   \n",
       "7127  2021-03-26 08:08:04+00:00   \n",
       "7128  2021-03-26 02:29:30+00:00   \n",
       "7129  2021-03-26 00:57:52+00:00   \n",
       "\n",
       "                                                   Text  \\\n",
       "7120                             cashapp itsnotgio aapl   \n",
       "7121              zacharydorris aapl httpstcoluxybhfiox   \n",
       "7122                cashapp cashappfriday \\nmoogle aapl   \n",
       "7123  start your investment journey with  free stock...   \n",
       "7124  aapl over the  fibo  aapl chart httpstcohyfbufabe   \n",
       "7125  aapl one of the most mentioned on rwallstreetb...   \n",
       "7126  pf  cash\\nbonds amp treasury vuty \\n\\ndow  aap...   \n",
       "7127  last day of the week selling pressure is still...   \n",
       "7128  aroraitesh michaelbatnick yep aapl tsla mfst a...   \n",
       "7129  wow a white lady spat at me when she walked by...   \n",
       "\n",
       "                                              sentiment    result  \n",
       "7120  {'neg': 0.0, 'neu': 1.0, 'pos': 0.0, 'compound...   neutral  \n",
       "7121  {'neg': 0.0, 'neu': 1.0, 'pos': 0.0, 'compound...   neutral  \n",
       "7122  {'neg': 0.0, 'neu': 1.0, 'pos': 0.0, 'compound...   neutral  \n",
       "7123  {'neg': 0.0, 'neu': 0.752, 'pos': 0.248, 'comp...  positive  \n",
       "7124  {'neg': 0.0, 'neu': 1.0, 'pos': 0.0, 'compound...   neutral  \n",
       "7125  {'neg': 0.0, 'neu': 1.0, 'pos': 0.0, 'compound...   neutral  \n",
       "7126  {'neg': 0.14, 'neu': 0.81, 'pos': 0.05, 'compo...   neutral  \n",
       "7127  {'neg': 0.146, 'neu': 0.854, 'pos': 0.0, 'comp...  negative  \n",
       "7128  {'neg': 0.0, 'neu': 0.879, 'pos': 0.121, 'comp...   neutral  \n",
       "7129  {'neg': 0.089, 'neu': 0.586, 'pos': 0.325, 'co...  positive  "
      ]
     },
     "execution_count": 5,
     "metadata": {},
     "output_type": "execute_result"
    }
   ],
   "source": [
    "APPL_df.tail(10)"
   ]
  },
  {
   "cell_type": "code",
   "execution_count": 6,
   "metadata": {},
   "outputs": [],
   "source": [
    "APPL_df.loc[APPL_df['result'] == 'positive','result']=1\n",
    "APPL_df.loc[APPL_df['result'] == 'negative','result']=-1\n",
    "APPL_df.loc[APPL_df['result'] == 'neutral','result']=0\n"
   ]
  },
  {
   "cell_type": "code",
   "execution_count": 7,
   "metadata": {},
   "outputs": [
    {
     "data": {
      "text/html": [
       "<div>\n",
       "<style scoped>\n",
       "    .dataframe tbody tr th:only-of-type {\n",
       "        vertical-align: middle;\n",
       "    }\n",
       "\n",
       "    .dataframe tbody tr th {\n",
       "        vertical-align: top;\n",
       "    }\n",
       "\n",
       "    .dataframe thead th {\n",
       "        text-align: right;\n",
       "    }\n",
       "</style>\n",
       "<table border=\"1\" class=\"dataframe\">\n",
       "  <thead>\n",
       "    <tr style=\"text-align: right;\">\n",
       "      <th></th>\n",
       "      <th>Date</th>\n",
       "      <th>Text</th>\n",
       "      <th>sentiment</th>\n",
       "      <th>result</th>\n",
       "    </tr>\n",
       "  </thead>\n",
       "  <tbody>\n",
       "    <tr>\n",
       "      <td>7120</td>\n",
       "      <td>2021-03-26 16:12:21+00:00</td>\n",
       "      <td>cashapp itsnotgio aapl</td>\n",
       "      <td>{'neg': 0.0, 'neu': 1.0, 'pos': 0.0, 'compound...</td>\n",
       "      <td>0</td>\n",
       "    </tr>\n",
       "    <tr>\n",
       "      <td>7121</td>\n",
       "      <td>2021-03-26 16:09:17+00:00</td>\n",
       "      <td>zacharydorris aapl httpstcoluxybhfiox</td>\n",
       "      <td>{'neg': 0.0, 'neu': 1.0, 'pos': 0.0, 'compound...</td>\n",
       "      <td>0</td>\n",
       "    </tr>\n",
       "    <tr>\n",
       "      <td>7122</td>\n",
       "      <td>2021-03-26 16:08:00+00:00</td>\n",
       "      <td>cashapp cashappfriday \\nmoogle aapl</td>\n",
       "      <td>{'neg': 0.0, 'neu': 1.0, 'pos': 0.0, 'compound...</td>\n",
       "      <td>0</td>\n",
       "    </tr>\n",
       "    <tr>\n",
       "      <td>7123</td>\n",
       "      <td>2021-03-26 15:23:30+00:00</td>\n",
       "      <td>start your investment journey with  free stock...</td>\n",
       "      <td>{'neg': 0.0, 'neu': 0.752, 'pos': 0.248, 'comp...</td>\n",
       "      <td>1</td>\n",
       "    </tr>\n",
       "    <tr>\n",
       "      <td>7124</td>\n",
       "      <td>2021-03-26 13:07:26+00:00</td>\n",
       "      <td>aapl over the  fibo  aapl chart httpstcohyfbufabe</td>\n",
       "      <td>{'neg': 0.0, 'neu': 1.0, 'pos': 0.0, 'compound...</td>\n",
       "      <td>0</td>\n",
       "    </tr>\n",
       "    <tr>\n",
       "      <td>7125</td>\n",
       "      <td>2021-03-26 13:01:22+00:00</td>\n",
       "      <td>aapl one of the most mentioned on rwallstreetb...</td>\n",
       "      <td>{'neg': 0.0, 'neu': 1.0, 'pos': 0.0, 'compound...</td>\n",
       "      <td>0</td>\n",
       "    </tr>\n",
       "    <tr>\n",
       "      <td>7126</td>\n",
       "      <td>2021-03-26 09:26:57+00:00</td>\n",
       "      <td>pf  cash\\nbonds amp treasury vuty \\n\\ndow  aap...</td>\n",
       "      <td>{'neg': 0.14, 'neu': 0.81, 'pos': 0.05, 'compo...</td>\n",
       "      <td>0</td>\n",
       "    </tr>\n",
       "    <tr>\n",
       "      <td>7127</td>\n",
       "      <td>2021-03-26 08:08:04+00:00</td>\n",
       "      <td>last day of the week selling pressure is still...</td>\n",
       "      <td>{'neg': 0.146, 'neu': 0.854, 'pos': 0.0, 'comp...</td>\n",
       "      <td>-1</td>\n",
       "    </tr>\n",
       "    <tr>\n",
       "      <td>7128</td>\n",
       "      <td>2021-03-26 02:29:30+00:00</td>\n",
       "      <td>aroraitesh michaelbatnick yep aapl tsla mfst a...</td>\n",
       "      <td>{'neg': 0.0, 'neu': 0.879, 'pos': 0.121, 'comp...</td>\n",
       "      <td>0</td>\n",
       "    </tr>\n",
       "    <tr>\n",
       "      <td>7129</td>\n",
       "      <td>2021-03-26 00:57:52+00:00</td>\n",
       "      <td>wow a white lady spat at me when she walked by...</td>\n",
       "      <td>{'neg': 0.089, 'neu': 0.586, 'pos': 0.325, 'co...</td>\n",
       "      <td>1</td>\n",
       "    </tr>\n",
       "  </tbody>\n",
       "</table>\n",
       "</div>"
      ],
      "text/plain": [
       "                           Date  \\\n",
       "7120  2021-03-26 16:12:21+00:00   \n",
       "7121  2021-03-26 16:09:17+00:00   \n",
       "7122  2021-03-26 16:08:00+00:00   \n",
       "7123  2021-03-26 15:23:30+00:00   \n",
       "7124  2021-03-26 13:07:26+00:00   \n",
       "7125  2021-03-26 13:01:22+00:00   \n",
       "7126  2021-03-26 09:26:57+00:00   \n",
       "7127  2021-03-26 08:08:04+00:00   \n",
       "7128  2021-03-26 02:29:30+00:00   \n",
       "7129  2021-03-26 00:57:52+00:00   \n",
       "\n",
       "                                                   Text  \\\n",
       "7120                             cashapp itsnotgio aapl   \n",
       "7121              zacharydorris aapl httpstcoluxybhfiox   \n",
       "7122                cashapp cashappfriday \\nmoogle aapl   \n",
       "7123  start your investment journey with  free stock...   \n",
       "7124  aapl over the  fibo  aapl chart httpstcohyfbufabe   \n",
       "7125  aapl one of the most mentioned on rwallstreetb...   \n",
       "7126  pf  cash\\nbonds amp treasury vuty \\n\\ndow  aap...   \n",
       "7127  last day of the week selling pressure is still...   \n",
       "7128  aroraitesh michaelbatnick yep aapl tsla mfst a...   \n",
       "7129  wow a white lady spat at me when she walked by...   \n",
       "\n",
       "                                              sentiment result  \n",
       "7120  {'neg': 0.0, 'neu': 1.0, 'pos': 0.0, 'compound...      0  \n",
       "7121  {'neg': 0.0, 'neu': 1.0, 'pos': 0.0, 'compound...      0  \n",
       "7122  {'neg': 0.0, 'neu': 1.0, 'pos': 0.0, 'compound...      0  \n",
       "7123  {'neg': 0.0, 'neu': 0.752, 'pos': 0.248, 'comp...      1  \n",
       "7124  {'neg': 0.0, 'neu': 1.0, 'pos': 0.0, 'compound...      0  \n",
       "7125  {'neg': 0.0, 'neu': 1.0, 'pos': 0.0, 'compound...      0  \n",
       "7126  {'neg': 0.14, 'neu': 0.81, 'pos': 0.05, 'compo...      0  \n",
       "7127  {'neg': 0.146, 'neu': 0.854, 'pos': 0.0, 'comp...     -1  \n",
       "7128  {'neg': 0.0, 'neu': 0.879, 'pos': 0.121, 'comp...      0  \n",
       "7129  {'neg': 0.089, 'neu': 0.586, 'pos': 0.325, 'co...      1  "
      ]
     },
     "execution_count": 7,
     "metadata": {},
     "output_type": "execute_result"
    }
   ],
   "source": [
    "APPL_df.tail(10)"
   ]
  },
  {
   "cell_type": "code",
   "execution_count": 8,
   "metadata": {},
   "outputs": [],
   "source": [
    "AAPL_X_classification=APPL_df['Text']\n",
    "AAPL_Y_classification=APPL_df['result']"
   ]
  },
  {
   "cell_type": "code",
   "execution_count": 9,
   "metadata": {},
   "outputs": [],
   "source": [
    "AAPL_X_classification_train, AAPL_X_classification_test, AAPL_Y_train,AAPL_Y_test = train_test_split(AAPL_X_classification, AAPL_Y_classification, test_size=0.2, random_state=2)"
   ]
  },
  {
   "cell_type": "code",
   "execution_count": 10,
   "metadata": {
    "scrolled": false
   },
   "outputs": [
    {
     "name": "stderr",
     "output_type": "stream",
     "text": [
      "[nltk_data] Downloading package vader_lexicon to\n",
      "[nltk_data]     C:\\Users\\Hadeel\\AppData\\Roaming\\nltk_data...\n",
      "[nltk_data]   Package vader_lexicon is already up-to-date!\n",
      "[nltk_data] Downloading package punkt to\n",
      "[nltk_data]     C:\\Users\\Hadeel\\AppData\\Roaming\\nltk_data...\n",
      "[nltk_data]   Package punkt is already up-to-date!\n"
     ]
    },
    {
     "data": {
      "text/plain": [
       "True"
      ]
     },
     "execution_count": 10,
     "metadata": {},
     "output_type": "execute_result"
    }
   ],
   "source": [
    "import nltk\n",
    "nltk.download('vader_lexicon')\n",
    "nltk.download('punkt')"
   ]
  },
  {
   "cell_type": "code",
   "execution_count": 11,
   "metadata": {},
   "outputs": [],
   "source": [
    "from nltk.sentiment.vader import SentimentIntensityAnalyzer"
   ]
  },
  {
   "cell_type": "code",
   "execution_count": 12,
   "metadata": {},
   "outputs": [],
   "source": [
    "def convert(x):\n",
    "    if x < -0.5:\n",
    "        return -1\n",
    "    elif x > 0.5:\n",
    "        return 1\n",
    "    else:\n",
    "        return 0"
   ]
  },
  {
   "cell_type": "code",
   "execution_count": 13,
   "metadata": {},
   "outputs": [],
   "source": [
    "def Sentiment_model(text):\n",
    "    text=str(text)\n",
    "    text=text.replace('\\d+', '')\n",
    "    text=text.replace(r'[^\\w\\s]+', '')\n",
    "    text=text.replace(r'\\^[a-zA-Z]\\s+', '')\n",
    "    text=text.lower()\n",
    "    sid = SentimentIntensityAnalyzer()\n",
    "    sentiment=sid.polarity_scores(text)\n",
    "    score=convert(sentiment['compound'])\n",
    "    return score\n",
    "    \n",
    "    \n",
    "    "
   ]
  },
  {
   "cell_type": "markdown",
   "metadata": {},
   "source": [
    "# test"
   ]
  },
  {
   "cell_type": "code",
   "execution_count": 16,
   "metadata": {},
   "outputs": [
    {
     "data": {
      "text/plain": [
       "1"
      ]
     },
     "execution_count": 16,
     "metadata": {},
     "output_type": "execute_result"
    }
   ],
   "source": [
    "Sentiment_model('airpods is the best thing')"
   ]
  },
  {
   "cell_type": "code",
   "execution_count": 17,
   "metadata": {},
   "outputs": [
    {
     "data": {
      "text/plain": [
       "-1"
      ]
     },
     "execution_count": 17,
     "metadata": {},
     "output_type": "execute_result"
    }
   ],
   "source": [
    "Sentiment_model('airpods is the worst thing')"
   ]
  },
  {
   "cell_type": "code",
   "execution_count": 18,
   "metadata": {},
   "outputs": [
    {
     "data": {
      "text/plain": [
       "0"
      ]
     },
     "execution_count": 18,
     "metadata": {},
     "output_type": "execute_result"
    }
   ],
   "source": [
    "Sentiment_model('i got new headphones')"
   ]
  },
  {
   "cell_type": "code",
   "execution_count": null,
   "metadata": {},
   "outputs": [],
   "source": []
  }
 ],
 "metadata": {
  "kernelspec": {
   "display_name": "Python 3",
   "language": "python",
   "name": "python3"
  },
  "language_info": {
   "codemirror_mode": {
    "name": "ipython",
    "version": 3
   },
   "file_extension": ".py",
   "mimetype": "text/x-python",
   "name": "python",
   "nbconvert_exporter": "python",
   "pygments_lexer": "ipython3",
   "version": "3.7.4"
  }
 },
 "nbformat": 4,
 "nbformat_minor": 2
}
